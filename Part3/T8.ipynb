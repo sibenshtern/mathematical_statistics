{
 "cells": [
  {
   "cell_type": "code",
   "execution_count": 2,
   "id": "b3bde1f5-97bc-458a-b116-d5ea767a9759",
   "metadata": {},
   "outputs": [],
   "source": [
    "from math import exp, pi, sqrt\n",
    "\n",
    "from scipy.integrate import quad\n",
    "from scipy.special import gamma\n",
    "import scipy.stats as sps"
   ]
  },
  {
   "cell_type": "code",
   "execution_count": 4,
   "id": "d9576853-6850-42fb-b6fa-2cc1b0d018e8",
   "metadata": {},
   "outputs": [],
   "source": [
    "def density(x, n):\n",
    "    return 0.5 ** (n / 2) / gamma(n / 2) * x ** (n / 2 - 1) * exp(-0.5 * x)"
   ]
  },
  {
   "cell_type": "code",
   "execution_count": 6,
   "id": "29e41858-9fba-4477-a30c-923b80b27e0f",
   "metadata": {},
   "outputs": [
    {
     "data": {
      "text/plain": [
       "(0.556376319175136, 9.717318818574311e-12)"
      ]
     },
     "execution_count": 6,
     "metadata": {},
     "output_type": "execute_result"
    }
   ],
   "source": [
    "I = quad(sps.chi2.pdf, 2.078, float('inf'), args=(3))\n",
    "I"
   ]
  },
  {
   "cell_type": "markdown",
   "id": "f5b40b2b-effb-4d2f-857b-be55e0c9188d",
   "metadata": {},
   "source": [
    "В записях чуть-чуть другое p-value, но оно совсем чуть-чуть расходится, так что не думаю, что это влияет на что-то... я видимо по-другому посчитал тогда..."
   ]
  }
 ],
 "metadata": {
  "kernelspec": {
   "display_name": "Python 3 (ipykernel)",
   "language": "python",
   "name": "python3"
  },
  "language_info": {
   "codemirror_mode": {
    "name": "ipython",
    "version": 3
   },
   "file_extension": ".py",
   "mimetype": "text/x-python",
   "name": "python",
   "nbconvert_exporter": "python",
   "pygments_lexer": "ipython3",
   "version": "3.9.12"
  }
 },
 "nbformat": 4,
 "nbformat_minor": 5
}
