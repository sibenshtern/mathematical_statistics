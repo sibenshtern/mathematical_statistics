{
 "cells": [
  {
   "cell_type": "markdown",
   "id": "1b21080a038cedaf",
   "metadata": {},
   "source": [
    "# T7"
   ]
  },
  {
   "cell_type": "code",
   "execution_count": null,
   "id": "5c3453e1382e2d40",
   "metadata": {
    "ExecuteTime": {
     "end_time": "2024-03-30T14:23:47.061294Z",
     "start_time": "2024-03-30T14:23:46.325249Z"
    },
    "collapsed": false,
    "jupyter": {
     "outputs_hidden": false
    }
   },
   "outputs": [],
   "source": [
    "from math import exp, pi, sqrt\n",
    "\n",
    "from scipy.integrate import quad\n",
    "from scipy.special import gamma"
   ]
  },
  {
   "cell_type": "code",
   "execution_count": 8,
   "id": "9c68bb99623b9bad",
   "metadata": {
    "ExecuteTime": {
     "end_time": "2024-03-30T14:30:40.711202Z",
     "start_time": "2024-03-30T14:30:40.696349Z"
    },
    "collapsed": false,
    "jupyter": {
     "outputs_hidden": false
    }
   },
   "outputs": [],
   "source": [
    "def density(x):\n",
    "    return 0.5 * exp(-0.5 * x)"
   ]
  },
  {
   "cell_type": "code",
   "execution_count": 9,
   "id": "9684ad7bace7320b",
   "metadata": {
    "ExecuteTime": {
     "end_time": "2024-03-30T14:30:41.301672Z",
     "start_time": "2024-03-30T14:30:41.284560Z"
    },
    "collapsed": false,
    "jupyter": {
     "outputs_hidden": false
    }
   },
   "outputs": [
    {
     "data": {
      "text/plain": [
       "(3.5659320517598606e-05, 1.2264749362750056e-09)"
      ]
     },
     "execution_count": 9,
     "metadata": {},
     "output_type": "execute_result"
    }
   ],
   "source": [
    "I = quad(density, 20.483, float('inf'))\n",
    "I"
   ]
  }
 ],
 "metadata": {
  "kernelspec": {
   "display_name": "Python 3 (ipykernel)",
   "language": "python",
   "name": "python3"
  },
  "language_info": {
   "codemirror_mode": {
    "name": "ipython",
    "version": 3
   },
   "file_extension": ".py",
   "mimetype": "text/x-python",
   "name": "python",
   "nbconvert_exporter": "python",
   "pygments_lexer": "ipython3",
   "version": "3.9.12"
  }
 },
 "nbformat": 4,
 "nbformat_minor": 5
}
