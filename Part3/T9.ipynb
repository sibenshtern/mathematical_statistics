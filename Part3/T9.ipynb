{
 "cells": [
  {
   "cell_type": "markdown",
   "id": "b22f9164-4b6c-4fc3-9c81-00ce3b2a2653",
   "metadata": {},
   "source": [
    "# T9"
   ]
  },
  {
   "cell_type": "code",
   "execution_count": 28,
   "id": "3e28221d-2592-422e-b488-1d5d692eadae",
   "metadata": {
    "tags": []
   },
   "outputs": [],
   "source": [
    "import numpy as np\n",
    "\n",
    "import matplotlib.pyplot as plt\n",
    "from matplotlib import ticker\n",
    "import seaborn as sns\n",
    "\n",
    "from math import exp, pi, sqrt\n",
    "\n",
    "from scipy.integrate import quad\n",
    "from scipy.special import gamma\n",
    "from scipy.optimize import minimize\n",
    "import scipy.stats as sps\n",
    "\n",
    "from tqdm import tqdm"
   ]
  },
  {
   "cell_type": "markdown",
   "id": "b5e2bc1d",
   "metadata": {},
   "source": [
    "## a) Проверка гипотезы о согласии данных с законом равномерного распредления с помощью критерия $\\chi^2$ и с помощью критерия Колмогорова"
   ]
  },
  {
   "cell_type": "markdown",
   "id": "c716546c-8708-4c52-af83-452217f552ff",
   "metadata": {},
   "source": [
    "### Считаем интеграл для p-value"
   ]
  },
  {
   "cell_type": "code",
   "execution_count": 2,
   "id": "477fc11c",
   "metadata": {},
   "outputs": [],
   "source": [
    "def density(x, n):\n",
    "    return 0.5 ** (n / 2) / gamma(n / 2) * x ** (n / 2 - 1) * exp(-0.5 * x)"
   ]
  },
  {
   "cell_type": "code",
   "execution_count": 3,
   "id": "4ee1b415-5acc-4afb-b3ec-fc9d0016d008",
   "metadata": {},
   "outputs": [
    {
     "data": {
      "text/plain": [
       "(0.058984030544419676, 2.513395417257353e-10)"
      ]
     },
     "execution_count": 3,
     "metadata": {},
     "output_type": "execute_result"
    }
   ],
   "source": [
    "I = quad(density, 16.4, float('inf'), args=(9))\n",
    "I"
   ]
  },
  {
   "cell_type": "markdown",
   "id": "6beb624c-4d47-486d-bd6c-361d654f4a7e",
   "metadata": {},
   "source": [
    "### Критерий Колмогорова"
   ]
  },
  {
   "cell_type": "code",
   "execution_count": 4,
   "id": "f0a676b9-6435-4abb-b828-e96ec2d4df6f",
   "metadata": {},
   "outputs": [],
   "source": [
    "# наша выборка\n",
    "sample = [5, 8, 6, 12, 14, 18, 11, 6, 13, 7]"
   ]
  },
  {
   "cell_type": "code",
   "execution_count": 5,
   "id": "4ffd9d19-4e7f-4c47-a368-3cd31557ab5d",
   "metadata": {},
   "outputs": [],
   "source": [
    "# получаем значения эмпирической функции распределения\n",
    "n = 100"
   ]
  },
  {
   "cell_type": "code",
   "execution_count": 6,
   "id": "d91d45ae-8d2d-437d-ae9b-a230b03d9ddd",
   "metadata": {},
   "outputs": [],
   "source": [
    "def calculate_edf(sample, n):\n",
    "    frequencies = np.array(sample) / 100\n",
    "    edf = np.array([np.sum(frequencies[:i + 1]) for i in range(len(sample))])\n",
    "    return edf"
   ]
  },
  {
   "cell_type": "code",
   "execution_count": 7,
   "id": "3983f064-087b-4fd0-922b-030e2b5e6e60",
   "metadata": {},
   "outputs": [
    {
     "data": {
      "text/plain": [
       "array([0.05, 0.13, 0.19, 0.31, 0.45, 0.63, 0.74, 0.8 , 0.93, 1.  ])"
      ]
     },
     "execution_count": 7,
     "metadata": {},
     "output_type": "execute_result"
    }
   ],
   "source": [
    "edf = calculate_edf(sample, n)\n",
    "edf"
   ]
  },
  {
   "cell_type": "code",
   "execution_count": 8,
   "id": "981cde9e-789a-437f-9c7d-b81b0a981391",
   "metadata": {},
   "outputs": [],
   "source": [
    "def uniform_density(a, b, x):\n",
    "    \"\"\"Равномерное распределение\"\"\"\n",
    "    return (x - a) / (b - a)"
   ]
  },
  {
   "cell_type": "code",
   "execution_count": 9,
   "id": "d59286ee-a93a-43b7-a9a0-e66a0f667fd5",
   "metadata": {},
   "outputs": [],
   "source": [
    "def kolmogorov_density(x):\n",
    "    \"\"\"Колмогоровское распределение\"\"\"\n",
    "    sum_result = 0\n",
    "    for i in range(1, 10000):\n",
    "        sum_result += (-1) ** i * exp(-2 * i ** 2 * x ** 2)\n",
    "    return 1 + 2 * sum_result"
   ]
  },
  {
   "cell_type": "code",
   "execution_count": 10,
   "id": "c7a08946-663c-482a-9d73-5d3efe6bf154",
   "metadata": {},
   "outputs": [],
   "source": [
    "def calculate_delta(sample, n, edf):\n",
    "    previous_height = 0\n",
    "    delta = -1\n",
    "    for i in range(len(sample)):\n",
    "        density_value = uniform_density(0, 9, i)\n",
    "        delta = max(abs(density_value - edf[i]), abs(density_value - previous_height), delta)\n",
    "        previous_height = edf[i]\n",
    "    delta *= sqrt(n)\n",
    "    return delta"
   ]
  },
  {
   "cell_type": "code",
   "execution_count": 12,
   "id": "58445791-05f8-40d2-9b94-f275c9c3dde9",
   "metadata": {},
   "outputs": [
    {
     "name": "stdout",
     "output_type": "stream",
     "text": [
      "Дельта критерия Колмогорова: 1.4333333333333331\n"
     ]
    }
   ],
   "source": [
    "delta_kolm = calculate_delta(sample, n, edf) # делта для колмогоровского распределения\n",
    "print(f\"Дельта критерия Колмогорова: {delta_kolm}\")"
   ]
  },
  {
   "cell_type": "code",
   "execution_count": 14,
   "id": "d43df453-c563-4dfa-94eb-29a67dd1ba3c",
   "metadata": {},
   "outputs": [
    {
     "name": "stdout",
     "output_type": "stream",
     "text": [
      "p-value критерия Колмогорова: 0.032851885438597406\n"
     ]
    }
   ],
   "source": [
    "p_value_kolm = 1 - kolmogorov_density(delta_kolm)\n",
    "print(f\"p-value критерия Колмогорова: {p_value_kolm}\")"
   ]
  },
  {
   "cell_type": "markdown",
   "id": "4b82d4c0-f9d3-48bc-8af4-df6fd6b8856f",
   "metadata": {},
   "source": [
    "## b) Проверка гипотезы о согласии данных с законом нормального распределения с помощью критерий $\\chi^2$ и с помощью критерия Колмогорова"
   ]
  },
  {
   "cell_type": "code",
   "execution_count": 15,
   "id": "b7618e19-1530-4df6-b362-a4174c9ee158",
   "metadata": {},
   "outputs": [],
   "source": [
    "def normal_density(x, tetha_1, tetha_2):\n",
    "    return 1 / (sqrt(2 * pi) *  tetha_2) * exp(-((x - tetha_1) ** 2) / ((tetha_2 ** 2) * 2))\n",
    "\n",
    "\n",
    "def normal_function(x, tetha_1, tetha_2):\n",
    "    return quad(normal_density, x[0], x[1], args=(tetha_1, tetha_2))[0]"
   ]
  },
  {
   "cell_type": "code",
   "execution_count": 16,
   "id": "0b6001c2-6a17-42e5-8948-7cb90a33ac84",
   "metadata": {},
   "outputs": [],
   "source": [
    "def likelihood_function(parameters, sample):\n",
    "    mean, sigma = parameters\n",
    "    intervals = [[-float('inf'), 1]] + [[i + 1, i + 2] for i in range(8)] + [[9, float('inf')]]\n",
    "\n",
    "    func = 1\n",
    "    for i in range(len(intervals)):\n",
    "        func *= normal_function(intervals[i], mean, sigma) ** sample[i]\n",
    "    \n",
    "    return -func  # минус для того, что бы найти максимум с помощью функции, которая ищет минимум"
   ]
  },
  {
   "cell_type": "code",
   "execution_count": 17,
   "id": "c94ad80d-aa6f-4a19-85bb-fef5b4651ea3",
   "metadata": {},
   "outputs": [],
   "source": [
    "def find_parameters(sample):\n",
    "    start_point = [3, 2]\n",
    "    result = minimize(likelihood_function, start_point, args=(sample), method='Nelder-Mead')\n",
    "    mean, sigma = result.x\n",
    "    return mean, sigma"
   ]
  },
  {
   "cell_type": "code",
   "execution_count": 18,
   "id": "41616ef7-d7db-4919-a875-29846ba14976",
   "metadata": {},
   "outputs": [
    {
     "name": "stdout",
     "output_type": "stream",
     "text": [
      "Оценки параметров ОМПГ:\n",
      "Среднее = 5.289737726548878, Отклонение = 2.6795139919364033\n"
     ]
    }
   ],
   "source": [
    "mean, sigma = find_parameters(sample)\n",
    "print(f'Оценки параметров ОМПГ:\\nСреднее = {mean}, Отклонение = {sigma}')"
   ]
  },
  {
   "cell_type": "code",
   "execution_count": 19,
   "id": "d71d1566-ca0f-4800-9259-ae4ef58fc15c",
   "metadata": {},
   "outputs": [
    {
     "name": "stdout",
     "output_type": "stream",
     "text": [
      "Дельта для критерия χ²: 9.802444291486268\n"
     ]
    }
   ],
   "source": [
    "intervals = [[-float('inf'), 1]] + [[i + 1, i + 2] for i in range(8)] + [[9, float('inf')]]\n",
    "delta = 0\n",
    "\n",
    "for i in range(len(sample)):\n",
    "    np_ = n * normal_function(intervals[i], mean, sigma)\n",
    "    delta += (sample[i] - np_) ** 2 / np_\n",
    "print(f'Дельта для критерия χ²: {delta}')"
   ]
  },
  {
   "cell_type": "code",
   "execution_count": 20,
   "id": "7b425352-b6ab-4fe1-a079-55536aec56d1",
   "metadata": {},
   "outputs": [
    {
     "name": "stdout",
     "output_type": "stream",
     "text": [
      "p-value критерия χ²: 0.20004793606221863\n"
     ]
    }
   ],
   "source": [
    "p_value_ompg = quad(density, delta, float('inf'), args=(7))[0]\n",
    "print(f\"p-value критерия χ²: {p_value_ompg}\")"
   ]
  },
  {
   "cell_type": "markdown",
   "id": "d32a817b-84a3-4af7-b879-c05a376c666d",
   "metadata": {},
   "source": [
    "### Проверка по критерию Колмогорову"
   ]
  },
  {
   "cell_type": "markdown",
   "id": "a2760172-48be-4233-b6d2-e8739fdfe6d2",
   "metadata": {},
   "source": [
    "Для критерия Колмогорова будем использовать ОМПГ оценку параметров"
   ]
  },
  {
   "cell_type": "code",
   "execution_count": 21,
   "id": "b1a5e929-fe96-42c0-bea9-df29c43bf9fa",
   "metadata": {},
   "outputs": [],
   "source": [
    "N = 50000\n",
    "borders =  [-float('inf'), 0, 1, 2, 3, 4, 5, 6, 7, 8, 9, float('inf')]"
   ]
  },
  {
   "cell_type": "code",
   "execution_count": 22,
   "id": "4005293c-9f69-459e-820e-ba088a4e899a",
   "metadata": {},
   "outputs": [],
   "source": [
    "def calculate_sample(bootstrap_sample):\n",
    "    sample = []\n",
    "    for i in range(len(borders) - 1):\n",
    "        a = bootstrap_sample[bootstrap_sample < borders[i + 1]]\n",
    "        a = a[a > borders[i]]\n",
    "        sample.append(len(a))\n",
    "    return sample"
   ]
  },
  {
   "cell_type": "code",
   "execution_count": 41,
   "id": "8392f657-8a07-417e-80fe-e3199160db86",
   "metadata": {},
   "outputs": [],
   "source": [
    "def calculate_delta_bootstrap(mean, sigma, edf):\n",
    "    previous_height = 0\n",
    "    delta = -1\n",
    "    for i in range(len(intervals)):\n",
    "        density_value = sps.norm.cdf(i, loc=mean, scale=sigma)\n",
    "        delta = max(abs(density_value - edf[i]), abs(density_value - previous_height), delta)\n",
    "        previous_height = edf[i]\n",
    "    delta *= sqrt(n)\n",
    "    return delta"
   ]
  },
  {
   "cell_type": "code",
   "execution_count": 42,
   "id": "c1e3c243-bccf-40bd-b03b-5d9356be10d7",
   "metadata": {},
   "outputs": [
    {
     "name": "stderr",
     "output_type": "stream",
     "text": [
      "Kolmogorov Bootstrap p-value: 0.2391: 100%|██████████| 50000/50000 [44:24<00:00, 18.77it/s] \n"
     ]
    }
   ],
   "source": [
    "bootstrap_deltas = []\n",
    "\n",
    "k = 0\n",
    "\n",
    "progressbar = tqdm(range(N), desc='Kolmogorov Bootstrap')\n",
    "\n",
    "for i in progressbar:\n",
    "    bootstrap_sample = sps.norm(loc=mean, scale=sigma).rvs(100)\n",
    "    calculated_sample = calculate_sample(bootstrap_sample)\n",
    "    mean_bootstrap, sigma_bootstrap = find_parameters(calculated_sample)\n",
    "    edf = calculate_edf(calculated_sample, 100)\n",
    "    delta_tmp = calculate_delta_bootstrap(mean_bootstrap, sigma_bootstrap, edf)\n",
    "    # print(delta_tmp)\n",
    "    if delta_tmp > delta_kolm:\n",
    "        k += 1\n",
    "        \n",
    "    progressbar.set_description(f\"Kolmogorov Bootstrap p-value: {k / N}\")"
   ]
  },
  {
   "cell_type": "code",
   "execution_count": 46,
   "id": "7732bfb4-540b-43fc-b141-e91eaa14350c",
   "metadata": {},
   "outputs": [
    {
     "name": "stdout",
     "output_type": "stream",
     "text": [
      "p-value по критерию Колмогорова: 0.2391\n"
     ]
    }
   ],
   "source": [
    "print(f\"p-value по критерию Колмогорова: {k / N}\")"
   ]
  },
  {
   "cell_type": "code",
   "execution_count": null,
   "id": "75f6e385-aa23-44c6-bf4b-badfbf088490",
   "metadata": {},
   "outputs": [],
   "source": []
  }
 ],
 "metadata": {
  "kernelspec": {
   "display_name": "Python 3 (ipykernel)",
   "language": "python",
   "name": "python3"
  },
  "language_info": {
   "codemirror_mode": {
    "name": "ipython",
    "version": 3
   },
   "file_extension": ".py",
   "mimetype": "text/x-python",
   "name": "python",
   "nbconvert_exporter": "python",
   "pygments_lexer": "ipython3",
   "version": "3.9.12"
  }
 },
 "nbformat": 4,
 "nbformat_minor": 5
}
