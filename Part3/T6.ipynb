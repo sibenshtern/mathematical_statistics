{
 "cells": [
  {
   "cell_type": "markdown",
   "id": "7a5faec25744f34",
   "metadata": {},
   "source": [
    "# T6"
   ]
  },
  {
   "cell_type": "code",
   "execution_count": 17,
   "id": "c0f461d114e2f8d6",
   "metadata": {
    "ExecuteTime": {
     "end_time": "2024-03-30T13:57:20.301556Z",
     "start_time": "2024-03-30T13:57:20.286880Z"
    },
    "collapsed": false,
    "jupyter": {
     "outputs_hidden": false
    }
   },
   "outputs": [],
   "source": [
    "from math import exp, pi, sqrt\n",
    "\n",
    "from scipy.integrate import quad\n",
    "from scipy.special import gamma"
   ]
  },
  {
   "cell_type": "code",
   "execution_count": 18,
   "id": "d22830384326e756",
   "metadata": {
    "ExecuteTime": {
     "end_time": "2024-03-30T13:57:20.455683Z",
     "start_time": "2024-03-30T13:57:20.445940Z"
    },
    "collapsed": false,
    "jupyter": {
     "outputs_hidden": false
    }
   },
   "outputs": [],
   "source": [
    "def density(x):\n",
    "    return (0.5 ** 0.5) / gamma(0.5) * x ** 0.5 * exp(-0.5 * x)"
   ]
  },
  {
   "cell_type": "code",
   "execution_count": 19,
   "id": "926a47db8f9e919f",
   "metadata": {
    "ExecuteTime": {
     "end_time": "2024-03-30T13:57:20.635887Z",
     "start_time": "2024-03-30T13:57:20.624998Z"
    },
    "collapsed": false,
    "jupyter": {
     "outputs_hidden": false
    }
   },
   "outputs": [],
   "source": [
    "I = quad(density, 131.235, float('inf'))"
   ]
  },
  {
   "cell_type": "code",
   "execution_count": 20,
   "id": "9126fd81fc3f51ec",
   "metadata": {
    "ExecuteTime": {
     "end_time": "2024-03-30T13:57:20.822003Z",
     "start_time": "2024-03-30T13:57:20.812975Z"
    },
    "collapsed": false,
    "jupyter": {
     "outputs_hidden": false
    }
   },
   "outputs": [
    {
     "data": {
      "text/plain": [
       "(2.9303267683492305e-28, 2.5395670498036224e-29)"
      ]
     },
     "execution_count": 20,
     "metadata": {},
     "output_type": "execute_result"
    }
   ],
   "source": [
    "I"
   ]
  }
 ],
 "metadata": {
  "kernelspec": {
   "display_name": "Python 3 (ipykernel)",
   "language": "python",
   "name": "python3"
  },
  "language_info": {
   "codemirror_mode": {
    "name": "ipython",
    "version": 3
   },
   "file_extension": ".py",
   "mimetype": "text/x-python",
   "name": "python",
   "nbconvert_exporter": "python",
   "pygments_lexer": "ipython3",
   "version": "3.9.12"
  }
 },
 "nbformat": 4,
 "nbformat_minor": 5
}
