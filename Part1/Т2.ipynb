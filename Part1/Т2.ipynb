{
 "cells":[
  {
   "cell_type":"code",
   "source":[
    "import numpy as np\n",
    "import scipy\n",
    "\n",
    "import seaborn as sns\n",
    "import matplotlib.pyplot as plt"
   ],
   "execution_count":1,
   "outputs":[
    
   ],
   "metadata":{
    "datalore":{
     "node_id":"dRQ14VgrdT3ySOoZIvsYCm",
     "type":"CODE",
     "hide_input_from_viewers":false,
     "hide_output_from_viewers":false,
     "report_properties":{
      "rowId":"1SZ6iDIyu2KempPvRZqUfh",
      "relativeY":0,
      "width":1,
      "height":7,
      "splitHeight":6,
      "isDynamicHeight":false
     }
    }
   }
  },
  {
   "cell_type":"code",
   "source":[
    "sns.set_theme()"
   ],
   "execution_count":2,
   "outputs":[
    
   ],
   "metadata":{
    "datalore":{
     "node_id":"n9rnZPXAErXQRMXQG3XWx9",
     "type":"CODE",
     "hide_input_from_viewers":false,
     "hide_output_from_viewers":false,
     "report_properties":{
      "rowId":"GVHUoN2ZZJ86lNOOKNAYIF",
      "relativeY":0,
      "width":1,
      "height":4,
      "splitHeight":2,
      "isDynamicHeight":false
     }
    }
   }
  },
  {
   "cell_type":"markdown",
   "source":[
    "## Генерация выборки"
   ],
   "attachments":{
    
   },
   "metadata":{
    "datalore":{
     "node_id":"A5ja0BTct6r1vVhxN2mlsu",
     "type":"MD",
     "hide_input_from_viewers":false,
     "hide_output_from_viewers":false,
     "report_properties":{
      "rowId":"hjVSiNTBwCXu6sFylm10rN",
      "relativeY":0
     }
    }
   }
  },
  {
   "cell_type":"code",
   "source":[
    "selection = np.random.exponential(size=25)\n",
    "# selection = [21, 28, 2, 10, 25, 19, 6, 13, 8, 12]\n",
    "sorted_selection = np.sort(selection)  # вариационный ряд"
   ],
   "execution_count":33,
   "outputs":[
    
   ],
   "metadata":{
    "datalore":{
     "node_id":"BX27d3lrhJZ69K7cRCntMP",
     "type":"CODE",
     "hide_input_from_viewers":false,
     "hide_output_from_viewers":false,
     "report_properties":{
      "rowId":"tJfzbSFfQyrhs74KtnvgoP",
      "relativeY":0
     }
    }
   }
  },
  {
   "cell_type":"markdown",
   "source":[
    "## Поиск моды, медианы, размаха"
   ],
   "attachments":{
    
   },
   "metadata":{
    "datalore":{
     "node_id":"d9COm9dIRS644pzxAsU5GG",
     "type":"MD",
     "hide_input_from_viewers":false,
     "hide_output_from_viewers":false,
     "report_properties":{
      "rowId":"L9sXbWV1QhKha7JwwQcPbD",
      "relativeY":0
     }
    }
   }
  },
  {
   "cell_type":"code",
   "source":[
    "def find_modes(selection_: np.array) -> np.array:\n",
    "    count = {}\n",
    "    for value in selection_:\n",
    "        count[value] = count.get(value, 0) + 1\n",
    "\n",
    "    if len(set(count.values())) == 1:\n",
    "        return selection\n",
    "    else:\n",
    "        max_count = max(count.values())\n",
    "        modes = []\n",
    "        for value in count.keys():\n",
    "            if count[value] == max_count:\n",
    "                modes.append(value)\n",
    "        return np.array(modes)\n",
    "\n",
    "\n",
    "modes = find_modes(selection)  # моды\n",
    "median = np.median(selection) # медиана\n",
    "scope = sorted_selection[-1] - sorted_selection[0]  # размах\n",
    "asymmetry_coefficient = scipy.stats.skew(selection)  # коэффициент ассиметрии"
   ],
   "execution_count":34,
   "outputs":[
    
   ],
   "metadata":{
    "datalore":{
     "node_id":"cJTZQYsY2VQ3kTIP0X42M9",
     "type":"CODE",
     "hide_input_from_viewers":false,
     "hide_output_from_viewers":false,
     "report_properties":{
      "rowId":"D0GTo62QkYaomixMlJRG0E",
      "relativeY":0
     }
    }
   }
  },
  {
   "cell_type":"code",
   "source":[
    "print(\"Мода: \", modes)\n",
    "print(\"Медиана: \", median)\n",
    "print(\"Размах: \", scope)\n",
    "print(\"Коэффициент ассиметрии: \", asymmetry_coefficient)"
   ],
   "execution_count":35,
   "outputs":[
    {
     "name":"stdout",
     "text":[
      "Мода:  [0.60139115 0.42643061 0.329805   0.0217973  1.62710754 1.42161038\n",
      " 0.32308919 0.33893313 0.59754796 0.30089322 0.58674531 0.82802004\n",
      " 0.3376556  3.18496505 0.20332102 1.47723639 2.37048675 0.78341424\n",
      " 2.2149317  1.73753484 0.12672637 0.12371888 2.26170989 0.93740579\n",
      " 1.95292008]\n",
      "Медиана:  0.6013911453705519\n",
      "Размах:  3.163167749800872\n",
      "Коэффициент ассиметрии:  0.8669153653844422\n"
     ],
     "output_type":"stream"
    }
   ],
   "metadata":{
    "datalore":{
     "node_id":"xtcQDj1r4AKv87RHaNu4FI",
     "type":"CODE",
     "hide_input_from_viewers":false,
     "hide_output_from_viewers":false,
     "report_properties":{
      "rowId":"FE37Np6jAUpOFK5iUV9pxk",
      "relativeY":0
     }
    }
   }
  },
  {
   "cell_type":"markdown",
   "source":[
    "## Эмпирическая функция распределения"
   ],
   "attachments":{
    
   },
   "metadata":{
    "datalore":{
     "node_id":"HlA2Ysbr3N60fWfsMFmMKK",
     "type":"MD",
     "hide_input_from_viewers":true,
     "hide_output_from_viewers":true
    }
   }
  },
  {
   "cell_type":"code",
   "source":[
    "fig, ax = plt.subplots()\n",
    "sns.ecdfplot(x=selection, ax=ax)"
   ],
   "execution_count":36,
   "outputs":[
    {
     "data":{
      "text\/plain":[
       "<Axes: ylabel='Proportion'>"
      ]
     },
     "metadata":{
      
     },
     "output_type":"display_data"
    },
    {
     "data":{
      "image\/png":"[encoded data removed]"
     },
     "metadata":{
      "image\/png":{
       
      }
     },
     "output_type":"display_data"
    }
   ],
   "metadata":{
    "datalore":{
     "node_id":"ygTXAuLueNALjDXNIbHnz4",
     "type":"CODE",
     "hide_input_from_viewers":false,
     "hide_output_from_viewers":false,
     "report_properties":{
      "rowId":"JevK5tMb3TbGWdmMLkMvHn",
      "relativeY":0
     }
    }
   }
  },
  {
   "cell_type":"markdown",
   "source":[
    "## Гистограмма и boxplot"
   ],
   "attachments":{
    
   },
   "metadata":{
    "datalore":{
     "node_id":"qLoZ51khQedzRhJMPoUrZL",
     "type":"MD",
     "hide_input_from_viewers":true,
     "hide_output_from_viewers":true
    }
   }
  },
  {
   "cell_type":"code",
   "source":[
    "sns.histplot(x=selection)"
   ],
   "execution_count":37,
   "outputs":[
    {
     "data":{
      "text\/plain":[
       "<Axes: ylabel='Count'>"
      ]
     },
     "metadata":{
      
     },
     "output_type":"display_data"
    },
    {
     "data":{
      "image\/png":"[encoded data removed]"
     },
     "metadata":{
      "image\/png":{
       
      }
     },
     "output_type":"display_data"
    }
   ],
   "metadata":{
    "datalore":{
     "node_id":"awEz8xrsCGz24uP3EXtCuO",
     "type":"CODE",
     "hide_input_from_viewers":false,
     "hide_output_from_viewers":false,
     "report_properties":{
      "rowId":"pKxSIbElvxxwJYtmWAbTjW",
      "relativeY":0
     }
    }
   }
  },
  {
   "cell_type":"code",
   "source":[
    "sns.boxplot(x=selection)"
   ],
   "execution_count":38,
   "outputs":[
    {
     "data":{
      "text\/plain":[
       "<Axes: >"
      ]
     },
     "metadata":{
      
     },
     "output_type":"display_data"
    },
    {
     "data":{
      "image\/png":"[encoded data removed]"
     },
     "metadata":{
      "image\/png":{
       
      }
     },
     "output_type":"display_data"
    }
   ],
   "metadata":{
    "datalore":{
     "node_id":"Wc8ez3uVIf8PD383jGyBS6",
     "type":"CODE",
     "hide_input_from_viewers":false,
     "hide_output_from_viewers":false,
     "report_properties":{
      "rowId":"MpKhnHhcQkl9rcc3FWuLmy",
      "relativeY":0
     }
    }
   }
  },
  {
   "cell_type":"markdown",
   "source":[
    "## Bootstrap метод"
   ],
   "attachments":{
    
   },
   "metadata":{
    "datalore":{
     "node_id":"8uzKDiANCDgzVODnnppHOG",
     "type":"MD",
     "hide_input_from_viewers":true,
     "hide_output_from_viewers":true
    }
   }
  },
  {
   "cell_type":"markdown",
   "source":[
    "Для 1000 элементов bootstrap метод показал себя неплохо, но иногда было что-то странное, поэтому у меня не 1000, а 10000 выборок"
   ],
   "attachments":{
    
   },
   "metadata":{
    "datalore":{
     "node_id":"VHDyMIT94UezysLklWCvxF",
     "type":"MD",
     "hide_input_from_viewers":true,
     "hide_output_from_viewers":true
    }
   }
  },
  {
   "cell_type":"code",
   "source":[
    "bootstrap_selections = np.array([\n",
    "    np.random.choice(selection, 25) for _ in range(10000)\n",
    "])"
   ],
   "execution_count":39,
   "outputs":[
    
   ],
   "metadata":{
    "datalore":{
     "node_id":"HSKUkTKKzBxqzxPnVBZr0r",
     "type":"CODE",
     "hide_input_from_viewers":false,
     "hide_output_from_viewers":false,
     "report_properties":{
      "rowId":"CtzYmil9C9HMckyh0r3VXt",
      "relativeY":0
     }
    }
   }
  },
  {
   "cell_type":"code",
   "source":[
    "def averages_density(x):\n",
    "    return 1 \/ np.sqrt(2 * np.pi) * np.exp(-0.5 * ((x - 1) \/ 0.2) ** 2)"
   ],
   "execution_count":40,
   "outputs":[
    
   ],
   "metadata":{
    "datalore":{
     "node_id":"RZfBM1zQILLOmAPoOUhl9Q",
     "type":"CODE",
     "hide_input_from_viewers":false,
     "hide_output_from_viewers":false,
     "report_properties":{
      "rowId":"0z7WCVKl3o1L3RuWEdurng",
      "relativeY":0
     }
    }
   }
  },
  {
   "cell_type":"code",
   "source":[
    "bootstrap_selections_averages = np.array([np.average(array) for array in bootstrap_selections])\n",
    "\n",
    "fig = plt.figure(figsize=(10, 5))\n",
    "ax1 = fig.add_subplot()\n",
    "ax2 = ax1.twinx()\n",
    "\n",
    "x = np.linspace(np.min(bootstrap_selections_averages), np.max(bootstrap_selections_averages), 100000)\n",
    "y = averages_density(x)\n",
    "\n",
    "sns.histplot(x=bootstrap_selections_averages, ax=ax1)\n",
    "sns.lineplot(x=x, y=y, ax=ax2)\n",
    "\n",
    "plt.show()"
   ],
   "execution_count":41,
   "outputs":[
    {
     "data":{
      "image\/png":"[encoded data removed]"
     },
     "metadata":{
      "image\/png":{
       
      }
     },
     "output_type":"display_data"
    }
   ],
   "metadata":{
    "datalore":{
     "node_id":"j3cMP05aaRsPcVElRxmTxY",
     "type":"CODE",
     "hide_input_from_viewers":false,
     "hide_output_from_viewers":false,
     "report_properties":{
      "rowId":"r4tRZChl3VHu4YW3Uzixxi",
      "relativeY":0
     }
    }
   }
  },
  {
   "cell_type":"code",
   "source":[
    "bootstrap_selections_skews = np.array([scipy.stats.skew(array) for array in bootstrap_selections])\n",
    "sns.histplot(x=bootstrap_selections_skews)"
   ],
   "execution_count":42,
   "outputs":[
    {
     "data":{
      "text\/plain":[
       "<Axes: ylabel='Count'>"
      ]
     },
     "metadata":{
      
     },
     "output_type":"display_data"
    },
    {
     "data":{
      "image\/png":"[encoded data removed]"
     },
     "metadata":{
      "image\/png":{
       
      }
     },
     "output_type":"display_data"
    }
   ],
   "metadata":{
    "datalore":{
     "node_id":"G316bRNb1j16ugou15xApS",
     "type":"CODE",
     "hide_input_from_viewers":false,
     "hide_output_from_viewers":false,
     "report_properties":{
      "rowId":"cya99Msgr5PLePs5kErMGi",
      "relativeY":0
     }
    }
   }
  },
  {
   "cell_type":"code",
   "source":[
    "def median_density(x):\n",
    "    return 67603900 * (1 - np.exp(-x)) ** 12 * (np.exp(-x)) ** 13"
   ],
   "execution_count":43,
   "outputs":[
    
   ],
   "metadata":{
    "datalore":{
     "node_id":"sPomQzloWKddYVYYZYZjPs",
     "type":"CODE",
     "hide_input_from_viewers":false,
     "hide_output_from_viewers":false,
     "report_properties":{
      "rowId":"wJBLekfIaZZq6YJE2aS4RO",
      "relativeY":0
     }
    }
   }
  },
  {
   "cell_type":"code",
   "source":[
    "bootstrap_selections_median = np.array([np.median(array) for array in bootstrap_selections])\n",
    "\n",
    "fig_s = plt.figure(figsize=(10, 5))\n",
    "ax1_s = fig_s.add_subplot(111)\n",
    "ax2_s = ax1_s.twinx()\n",
    "\n",
    "x_s = np.linspace(np.min(bootstrap_selections_median), np.max(bootstrap_selections_median), 1000)\n",
    "y_s = median_density(x)\n",
    "\n",
    "sns.histplot(x=bootstrap_selections_averages, ax=ax1_s)\n",
    "sns.lineplot(x=x, y=y, ax=ax2_s)\n",
    "\n",
    "plt.show()"
   ],
   "execution_count":44,
   "outputs":[
    {
     "data":{
      "image\/png":"[encoded data removed]"
     },
     "metadata":{
      "image\/png":{
       
      }
     },
     "output_type":"display_data"
    }
   ],
   "metadata":{
    "datalore":{
     "node_id":"Qkkbs8XJCag1KnNZOqHAg3",
     "type":"CODE",
     "hide_input_from_viewers":false,
     "hide_output_from_viewers":false,
     "report_properties":{
      "rowId":"JezVHCFkswfcVYcifs25TS",
      "relativeY":0
     }
    }
   }
  }
 ],
 "metadata":{
  "kernelspec":{
   "display_name":"Python",
   "language":"python",
   "name":"python"
  },
  "datalore":{
   "computation_mode":"JUPYTER",
   "package_manager":"pip",
   "base_environment":"default",
   "packages":[
    
   ],
   "report_row_ids":[
    "1SZ6iDIyu2KempPvRZqUfh",
    "GVHUoN2ZZJ86lNOOKNAYIF",
    "hjVSiNTBwCXu6sFylm10rN",
    "tJfzbSFfQyrhs74KtnvgoP",
    "L9sXbWV1QhKha7JwwQcPbD",
    "D0GTo62QkYaomixMlJRG0E",
    "FE37Np6jAUpOFK5iUV9pxk",
    "JevK5tMb3TbGWdmMLkMvHn",
    "pKxSIbElvxxwJYtmWAbTjW",
    "MpKhnHhcQkl9rcc3FWuLmy",
    "CtzYmil9C9HMckyh0r3VXt",
    "0z7WCVKl3o1L3RuWEdurng",
    "r4tRZChl3VHu4YW3Uzixxi",
    "cya99Msgr5PLePs5kErMGi",
    "wJBLekfIaZZq6YJE2aS4RO",
    "JezVHCFkswfcVYcifs25TS",
    "OJSuKjkw2YqhERt9iGIopc"
   ],
   "version":3
  }
 },
 "nbformat":4,
 "nbformat_minor":4
}