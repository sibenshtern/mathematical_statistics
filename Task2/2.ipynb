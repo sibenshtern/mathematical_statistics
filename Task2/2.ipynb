{
 "cells": [
  {
   "cell_type": "code",
   "id": "ab65b690f940344c",
   "metadata": {
    "ExecuteTime": {
     "end_time": "2024-05-19T17:15:33.268018Z",
     "start_time": "2024-05-19T17:15:33.253270Z"
    }
   },
   "source": [
    "import numpy as np\n",
    "import scipy.stats as sps\n",
    "import scipy.integrate as spi"
   ],
   "outputs": [],
   "execution_count": 1
  },
  {
   "cell_type": "markdown",
   "id": "7fa4fcfb-c344-4879-8477-a53e56bf7dc3",
   "metadata": {},
   "source": [
    "## Красивая табличка\n",
    "\n",
    "| № | Содержание $Ig$ $A(\\%)$                    |\n",
    "|---|--------------------------------------------|\n",
    "| 1 | 83, 85                                     |\n",
    "| 2 | 84, 85, 85, 86, 86, 87                     |\n",
    "| 3 | 86, 87, 87, 87, 88, 88, 88, 88, 88, 89, 90 |\n",
    "| 4 | 89, 90, 90, 91                             |\n",
    "| 5 | 90, 92                                     |"
   ]
  },
  {
   "cell_type": "code",
   "id": "1fb44201f9fe5c56",
   "metadata": {
    "ExecuteTime": {
     "end_time": "2024-05-15T02:29:03.110230Z",
     "start_time": "2024-05-15T02:29:03.086488Z"
    }
   },
   "source": [
    "samples_ig = [\n",
    "    [83, 85],\n",
    "    [84, 85, 85, 86, 86, 87],\n",
    "    [86, 87, 87, 87, 88, 88, 88, 88, 88, 89, 90],\n",
    "    [89, 90, 90, 91],\n",
    "    [90, 92]\n",
    "]"
   ],
   "outputs": [],
   "execution_count": 7
  },
  {
   "metadata": {},
   "cell_type": "markdown",
   "source": "Вместо показателей иммуноглобулина делаем группы возрастные и теперь у нас 5 факторов: $x_1$, $x_2$, $x_3$, $x_4$, $x_5$",
   "id": "afa5084e286bbfd1"
  },
  {
   "cell_type": "code",
   "id": "490dd6588e5e685a",
   "metadata": {
    "ExecuteTime": {
     "end_time": "2024-05-15T02:29:03.118299Z",
     "start_time": "2024-05-15T02:29:03.111264Z"
    }
   },
   "source": [
    "sample = []\n",
    "for i, sample_ig in enumerate(samples_ig):\n",
    "    for _ in range(len(sample_ig)):\n",
    "        sample.append(np.eye(5)[i])\n",
    "\n",
    "sample = np.array(sample)\n",
    "sample_sum = np.array([np.sum(group) for group in samples_ig])\n",
    "sample_count = np.array([len(group) for group in samples_ig])"
   ],
   "outputs": [],
   "execution_count": 8
  },
  {
   "metadata": {},
   "cell_type": "markdown",
   "source": "## Создаем вектор ответов",
   "id": "923c9affe7adaa92"
  },
  {
   "metadata": {
    "ExecuteTime": {
     "end_time": "2024-05-15T02:58:00.607008Z",
     "start_time": "2024-05-15T02:58:00.600891Z"
    }
   },
   "cell_type": "code",
   "source": [
    "def flatten(array: list) -> list:\n",
    "    result = []\n",
    "    for element in array:\n",
    "        result.extend(element)\n",
    "    return result"
   ],
   "id": "ddda049234dae52a",
   "outputs": [],
   "execution_count": 69
  },
  {
   "cell_type": "code",
   "id": "746baabd5d1c4ce9",
   "metadata": {
    "ExecuteTime": {
     "end_time": "2024-05-15T02:58:10.827612Z",
     "start_time": "2024-05-15T02:58:10.820279Z"
    }
   },
   "source": [
    "Y = flatten(samples_ig)\n",
    "Y = np.array(Y).reshape((1, -1)).T"
   ],
   "outputs": [],
   "execution_count": 70
  },
  {
   "metadata": {
    "ExecuteTime": {
     "end_time": "2024-05-15T02:58:12.647763Z",
     "start_time": "2024-05-15T02:58:12.631933Z"
    }
   },
   "cell_type": "code",
   "source": [
    "class LinearRegression:\n",
    "\n",
    "    def __init__(self, factors: np.array, answers: np.array):\n",
    "        self.factors = factors\n",
    "        self.answers = answers\n",
    "\n",
    "        self.F = factors.T @ factors\n",
    "        self.inv_F = np.linalg.inv(self.F)\n",
    "        self.coefficients = self.inv_F @ factors.T @ answers\n",
    "        self.errors = self.answers - self.factors @ self.coefficients\n",
    "\n",
    "        self.RSS = (self.errors.T @ self.errors)[0, 0]\n",
    "        self.TSS = np.sum((self.answers - np.average(self.answers)) ** 2)\n",
    "        self.R_square = (self.TSS - self.RSS) / self.TSS\n",
    "\n",
    "    def is_regression_significant(self):\n",
    "        delta = self.R_square / (1 - self.R_square) * (\n",
    "                    self.n - self.factors_count) / (self.factors_count - 1)\n",
    "        p_value = spi.quad(sps.f.pdf, delta, np.inf, args=(\n",
    "        self.factors_count - 1, self.n - self.factors_count))[0]\n",
    "        return p_value < 0.05\n",
    "\n",
    "    def check_multicollinearity(self):\n",
    "        R_squares = []\n",
    "        for i in range(0, self.factors_count):\n",
    "            temp_factors = np.delete(self.factors, i, 1)\n",
    "            temp_answers = self.factors[:, i]\n",
    "\n",
    "            R_squares.append(\n",
    "                LinearRegression(temp_factors, temp_answers).R_square)\n",
    "        return R_squares\n",
    "\n",
    "    def check_significant(self):\n",
    "        p_values = []\n",
    "        for i, coefficient in enumerate(self.coefficients):\n",
    "            delta = coefficient / np.sqrt(\n",
    "                self.RSS * self.inv_F[i][i]) * np.sqrt(\n",
    "                self.n - self.factors_count)\n",
    "            p_value = 2 * spi.quad(sps.t.pdf, delta, np.inf, args=(44,))[0]\n",
    "            p_values.append(p_value)\n",
    "\n",
    "        return p_values\n",
    "\n",
    "    def cross_validation(self) -> (float, float):\n",
    "        CVSS = []\n",
    "        for i in range(self.n):\n",
    "            temp_factors = np.delete(self.factors, i, 0)\n",
    "            temp_answers = np.delete(self.answers, i, 0)\n",
    "            temp_regression = LinearRegression(temp_factors, temp_answers)\n",
    "\n",
    "            factor = self.factors[i]\n",
    "            est_answer = factor @ temp_regression.coefficients\n",
    "            CVSS.append((self.answers[i] - est_answer) ** 2)\n",
    "\n",
    "        TSS = np.sum((self.answers - np.average(self.answers)) ** 2)\n",
    "        cvss = np.sum(CVSS)\n",
    "        return cvss, (TSS - cvss) / TSS\n",
    "\n",
    "    def scale_coefficients(self):\n",
    "        new_coefficients = []\n",
    "        for coefficient in self.coefficients:\n",
    "            new_coefficients.append((coefficient - np.min(self.coefficients)) /\n",
    "                                    (np.max(self.coefficients) - np.min(\n",
    "                                        self.coefficients)))\n",
    "        return new_coefficients\n",
    "\n",
    "    @property\n",
    "    def n(self):\n",
    "        return len(self.factors)\n",
    "\n",
    "    @property\n",
    "    def factors_count(self):\n",
    "        return self.factors.shape[1]\n",
    "\n",
    "    def __repr__(self):\n",
    "        return str(self)\n",
    "\n",
    "    def __str__(self):\n",
    "        return (f'Коэффициенты регрессии: {list(self.coefficients)}' +\n",
    "                f'\\nRSS регрессии: {self.RSS}' +\n",
    "                f'\\nTSS регрессии: {self.TSS}' +\n",
    "                f'\\nR^2 регрессии: {self.R_square}' +\n",
    "                f'\\nF: {self.F}' +\n",
    "                f'\\nF^-1: {self.inv_F}' +\n",
    "                f'\\nРегрессия значима: {\"да\" if self.is_regression_significant() else \"нет\"}')"
   ],
   "id": "4567653b82061de0",
   "outputs": [],
   "execution_count": 71
  },
  {
   "metadata": {
    "ExecuteTime": {
     "end_time": "2024-05-15T02:58:12.853465Z",
     "start_time": "2024-05-15T02:58:12.834746Z"
    }
   },
   "cell_type": "code",
   "source": "regression = LinearRegression(sample, Y)",
   "id": "67075e036d3b02b6",
   "outputs": [],
   "execution_count": 72
  },
  {
   "metadata": {
    "ExecuteTime": {
     "end_time": "2024-05-15T02:58:13.030577Z",
     "start_time": "2024-05-15T02:58:13.013829Z"
    }
   },
   "cell_type": "code",
   "source": "regression",
   "id": "26a6c3dfa7c7054b",
   "outputs": [
    {
     "data": {
      "text/plain": [
       "Коэффициенты регрессии: [array([84.]), array([85.5]), array([87.81818182]), array([90.]), array([91.])]\n",
       "RSS регрессии: 23.136363636363633\n",
       "TSS регрессии: 122.16\n",
       "R^2 регрессии: 0.8106060606060607\n",
       "F: [[ 2.  0.  0.  0.  0.]\n",
       " [ 0.  6.  0.  0.  0.]\n",
       " [ 0.  0. 11.  0.  0.]\n",
       " [ 0.  0.  0.  4.  0.]\n",
       " [ 0.  0.  0.  0.  2.]]\n",
       "F^-1: [[ 0.5         0.          0.          0.          0.        ]\n",
       " [ 0.          0.16666667  0.          0.          0.        ]\n",
       " [ 0.          0.          0.09090909  0.          0.        ]\n",
       " [-0.         -0.         -0.          0.25       -0.        ]\n",
       " [ 0.          0.          0.          0.          0.5       ]]\n",
       "Регрессия значима: да"
      ]
     },
     "execution_count": 73,
     "metadata": {},
     "output_type": "execute_result"
    }
   ],
   "execution_count": 73
  },
  {
   "metadata": {},
   "cell_type": "markdown",
   "source": "## Попарное сравнение средних в рамках регрессионной модели, с учётом множественности проверяемых гипотез",
   "id": "89bc9f12607481d8"
  },
  {
   "metadata": {
    "ExecuteTime": {
     "end_time": "2024-05-15T02:58:14.089728Z",
     "start_time": "2024-05-15T02:58:14.074103Z"
    }
   },
   "cell_type": "code",
   "source": [
    "def check_coefficients(_regression: LinearRegression) -> (list[list[int], ...], ...):\n",
    "    deltas = [[] for _ in range(_regression.factors_count - 1)]\n",
    "    p_values = [[] for _ in range(_regression.factors_count - 1)]\n",
    "\n",
    "    for i in range(0, _regression.factors_count - 1):\n",
    "        for j in range(i + 1, _regression.factors_count):\n",
    "            betta_1 = _regression.coefficients[i]\n",
    "            betta_2 = _regression.coefficients[j]\n",
    "            RSS = _regression.RSS\n",
    "            F_sum = _regression.inv_F[i][i] + _regression.inv_F[j][j]\n",
    "            \n",
    "            delta = (betta_1 - betta_2) / np.sqrt(RSS * F_sum) * np.sqrt(20)\n",
    "            p_value = sps.t.cdf(delta, 20)\n",
    "            deltas[i].append(delta[0])\n",
    "            p_values[i].append(p_value[0])\n",
    "    return p_values, deltas"
   ],
   "id": "9c068d7ce3f4ca95",
   "outputs": [],
   "execution_count": 74
  },
  {
   "metadata": {
    "ExecuteTime": {
     "end_time": "2024-05-15T02:59:02.670659Z",
     "start_time": "2024-05-15T02:59:02.662710Z"
    }
   },
   "cell_type": "code",
   "source": [
    "p_values, deltas = check_coefficients(regression)\n",
    "p_values = flatten(p_values)\n",
    "deltas = flatten(deltas)"
   ],
   "id": "ac2f80d688cb9865",
   "outputs": [],
   "execution_count": 76
  },
  {
   "metadata": {},
   "cell_type": "markdown",
   "source": "### Сортируем $p_{value}$ по возрастанию и начинаем проверять по методу Холла-Бонферони",
   "id": "1e592fc2bdf2d77e"
  },
  {
   "metadata": {
    "ExecuteTime": {
     "end_time": "2024-05-15T03:04:04.824800Z",
     "start_time": "2024-05-15T03:04:04.814024Z"
    }
   },
   "cell_type": "code",
   "source": [
    "p_values = np.sort(p_values)\n",
    "for i, p_value in enumerate(p_values, 0):\n",
    "    if p_value > 0.05 / (10 - i):\n",
    "        print(i, p_value, 0.05 / (10 - i))"
   ],
   "id": "7c3ada5c9aa8e2c0",
   "outputs": [
    {
     "name": "stdout",
     "output_type": "stream",
     "text": [
      "8 0.051550204450411884 0.025\n",
      "9 0.1478956761373736 0.05\n"
     ]
    }
   ],
   "execution_count": 84
  },
  {
   "metadata": {},
   "cell_type": "markdown",
   "source": "По методу Холла-Бонферони нет основания отвергать гипотезы",
   "id": "df9f61b44a9779ef"
  },
  {
   "metadata": {},
   "cell_type": "code",
   "outputs": [],
   "execution_count": null,
   "source": "",
   "id": "e1c424e45a359d0"
  }
 ],
 "metadata": {
  "kernelspec": {
   "display_name": "Python 3 (ipykernel)",
   "language": "python",
   "name": "python3"
  },
  "language_info": {
   "codemirror_mode": {
    "name": "ipython",
    "version": 3
   },
   "file_extension": ".py",
   "mimetype": "text/x-python",
   "name": "python",
   "nbconvert_exporter": "python",
   "pygments_lexer": "ipython3",
   "version": "3.9.19"
  }
 },
 "nbformat": 4,
 "nbformat_minor": 5
}
