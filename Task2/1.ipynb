{
 "cells": [
  {
   "metadata": {},
   "cell_type": "markdown",
   "source": "# Задание 1",
   "id": "f751d7be83970587"
  },
  {
   "metadata": {},
   "cell_type": "markdown",
   "source": "![](img.png)",
   "id": "f23b88b5d7976154"
  },
  {
   "metadata": {
    "ExecuteTime": {
     "end_time": "2024-05-19T15:57:48.892197Z",
     "start_time": "2024-05-19T15:57:48.877226Z"
    }
   },
   "cell_type": "code",
   "source": [
    "import numpy as np\n",
    "import scipy.stats as sps\n",
    "import scipy.integrate as spi\n",
    "import scipy\n",
    "\n",
    "import matplotlib.pyplot as plt\n",
    "from matplotlib import ticker\n",
    "import seaborn as sns\n",
    "\n",
    "%matplotlib inline"
   ],
   "id": "dc3f7149-b6dd-4624-ab39-c6c0bff3a389",
   "outputs": [],
   "execution_count": 1
  },
  {
   "metadata": {},
   "cell_type": "markdown",
   "source": "## Генерация выборки",
   "id": "f6d07fdc97d07bd1"
  },
  {
   "cell_type": "code",
   "id": "93931823-5463-415b-87db-cff75d2ca952",
   "metadata": {
    "ExecuteTime": {
     "end_time": "2024-05-19T15:57:48.908077Z",
     "start_time": "2024-05-19T15:57:48.893219Z"
    }
   },
   "source": [
    "def generate_sample(size: int = 1) -> np.array:\n",
    "    sample = []\n",
    "    \n",
    "    for _ in range(size):\n",
    "        x1, x2, x3, x4, x5 = np.random.uniform(-1, 1, 5)\n",
    "        y = np.random.normal(2 + 3*x1 - 2*x2 + x3 + x4 - x5, 1.5, 1)[0]\n",
    "        sample.append([x1, x2, x3, x4, x5, y])\n",
    "    \n",
    "    return np.array(sample)"
   ],
   "outputs": [],
   "execution_count": 2
  },
  {
   "metadata": {
    "ExecuteTime": {
     "end_time": "2024-05-19T15:57:48.923478Z",
     "start_time": "2024-05-19T15:57:48.909006Z"
    }
   },
   "cell_type": "code",
   "source": "samples = generate_sample(50)",
   "id": "1b45bd8966f54ccd",
   "outputs": [],
   "execution_count": 3
  },
  {
   "metadata": {},
   "cell_type": "markdown",
   "source": "## Нахождение коэффициентов регрессии",
   "id": "648dee54e12ffcfc"
  },
  {
   "metadata": {
    "ExecuteTime": {
     "end_time": "2024-05-19T15:57:48.938789Z",
     "start_time": "2024-05-19T15:57:48.925379Z"
    }
   },
   "cell_type": "code",
   "source": [
    "class LinearRegression:\n",
    "    \n",
    "    def __init__(self, factors: np.array, answers: np.array):\n",
    "        self.factors = factors\n",
    "        self.answers = answers\n",
    "        \n",
    "        self.F = factors.T @ factors\n",
    "        self.inv_F = np.linalg.inv(self.F)\n",
    "        self.coefficients = self.inv_F @ factors.T @ answers\n",
    "        self.errors = self.answers - self.factors @ self.coefficients\n",
    "        \n",
    "        self.RSS = self.errors.T @ self.errors\n",
    "        self.TSS = np.sum((self.answers - np.average(self.answers)) ** 2)\n",
    "        self.R_square = (self.TSS - self.RSS) / self.TSS\n",
    "    \n",
    "    def is_regression_significant(self):\n",
    "        delta = self.R_square / (1 - self.R_square) * (self.n - self.factors_count) / (self.factors_count - 1)\n",
    "        p_value = spi.quad(sps.f.pdf, delta, np.inf, args=(self.factors_count - 1, self.n - self.factors_count))[0]\n",
    "        return p_value < 0.05\n",
    "    \n",
    "    def check_multicollinearity(self):\n",
    "        R_squares = []\n",
    "        for i in range(1, self.factors_count):\n",
    "            temp_factors = np.delete(self.factors, i, 1)\n",
    "            temp_answers = self.factors[:, i]\n",
    "            \n",
    "            R_squares.append(LinearRegression(temp_factors, temp_answers).R_square)\n",
    "        return R_squares\n",
    "\n",
    "    def check_significant(self):\n",
    "        p_values = []\n",
    "        for i, coefficient in enumerate(self.coefficients):\n",
    "            delta = coefficient / np.sqrt(self.RSS * self.inv_F[i][i]) * np.sqrt(self.n - self.factors_count)\n",
    "            p_value = 2 * spi.quad(sps.t.pdf, delta, np.inf, args=(44,))[0]\n",
    "            p_values.append(p_value)\n",
    "        \n",
    "        return p_values\n",
    "\n",
    "    def cross_validation(self) -> (float, float):\n",
    "        CVSS = []\n",
    "        for i in range(self.n):\n",
    "            temp_factors = np.delete(self.factors, i, 0)\n",
    "            temp_answers = np.delete(self.answers, i, 0)\n",
    "            temp_regression = LinearRegression(temp_factors, temp_answers)\n",
    "            \n",
    "            factor = self.factors[i]\n",
    "            est_answer = factor @ temp_regression.coefficients\n",
    "            CVSS.append((self.answers[i] - est_answer) ** 2)\n",
    "        \n",
    "        # average_answer = np.average(self.answers)\n",
    "        TSS = np.sum((self.answers - np.average(self.answers)) ** 2)\n",
    "        cvss = np.sum(CVSS)\n",
    "        return cvss, (TSS - cvss) / TSS\n",
    "\n",
    "    def scale_coefficients(self):\n",
    "        new_coefficients = []\n",
    "        for coefficient in self.coefficients:\n",
    "            new_coefficients.append((coefficient - np.min(self.coefficients)) / \n",
    "                                    (np.max(self.coefficients) - np.min(self.coefficients)))\n",
    "        return new_coefficients\n",
    "    \n",
    "    @property\n",
    "    def n(self):\n",
    "        return len(self.factors)\n",
    "    \n",
    "    @property\n",
    "    def factors_count(self):\n",
    "        return self.factors.shape[1]\n",
    "    \n",
    "    def __str__(self):\n",
    "        return (f'Коэффициенты регрессии: {list(self.coefficients)}' + \n",
    "                f'\\nRSS регрессии: {self.RSS}' + \n",
    "                f'\\nTSS регрессии: {self.TSS}' +\n",
    "                f'\\nR^2 регрессии: {self.R_square}' +\n",
    "                f'\\nРегрессия значима: {\"да\" if self.is_regression_significant() else \"нет\"}')"
   ],
   "id": "d50a9e6a80a7b9e1",
   "outputs": [],
   "execution_count": 4
  },
  {
   "metadata": {
    "ExecuteTime": {
     "end_time": "2024-05-19T15:57:48.986528Z",
     "start_time": "2024-05-19T15:57:48.940079Z"
    }
   },
   "cell_type": "code",
   "source": [
    "all_factors = np.array([np.append(np.array([1]), sample[:5]) for sample in samples])\n",
    "all_answers = samples[:, 5]\n",
    "\n",
    "all_regression = LinearRegression(all_factors, all_answers)\n",
    "print(str(all_regression))"
   ],
   "id": "d6790e372ec94b41",
   "outputs": [
    {
     "name": "stdout",
     "output_type": "stream",
     "text": [
      "Коэффициенты регрессии: [1.9175267126655315, 3.0224931693445427, -2.205475701383939, 0.12319308111107524, 1.0964934091321867, -0.883874557244291]\n",
      "RSS регрессии: 96.17594514987245\n",
      "TSS регрессии: 282.44361153841805\n",
      "R^2 регрессии: 0.6594862081460441\n",
      "Регрессия значима: да\n"
     ]
    }
   ],
   "execution_count": 5
  },
  {
   "metadata": {},
   "cell_type": "markdown",
   "source": "## Проверка мультиколлинеарности",
   "id": "b8a0e1c531ceaacb"
  },
  {
   "metadata": {
    "ExecuteTime": {
     "end_time": "2024-05-19T15:57:49.001599Z",
     "start_time": "2024-05-19T15:57:48.988505Z"
    }
   },
   "cell_type": "code",
   "source": [
    "multicollinearity = all_regression.check_multicollinearity()\n",
    "for i, coefficient in enumerate(multicollinearity, 1):\n",
    "    print(f\"Коэффициент {i} - R^2 = {coefficient:.4f}\")"
   ],
   "id": "be872e610a1d4f6c",
   "outputs": [
    {
     "name": "stdout",
     "output_type": "stream",
     "text": [
      "Коэффициент 1 - R^2 = 0.0961\n",
      "Коэффициент 2 - R^2 = 0.2646\n",
      "Коэффициент 3 - R^2 = 0.0725\n",
      "Коэффициент 4 - R^2 = 0.2578\n",
      "Коэффициент 5 - R^2 = 0.0311\n"
     ]
    }
   ],
   "execution_count": 6
  },
  {
   "metadata": {
    "ExecuteTime": {
     "end_time": "2024-05-19T15:57:49.074054Z",
     "start_time": "2024-05-19T15:57:49.003600Z"
    }
   },
   "cell_type": "code",
   "source": [
    "significants = all_regression.check_significant()\n",
    "print('P_value коэффициентов', significants)"
   ],
   "id": "8f51f779298be0df",
   "outputs": [
    {
     "name": "stdout",
     "output_type": "stream",
     "text": [
      "P_value коэффициентов [1.6013689237760187e-10, 7.833284327707431e-10, 1.9999772257596864, 0.7320342951104464, 0.01244064211018664, 1.9856846098951535]\n"
     ]
    }
   ],
   "execution_count": 7
  },
  {
   "metadata": {},
   "cell_type": "markdown",
   "source": "## Исследуем выборку на выбросы ",
   "id": "c44632d7ddbec85b"
  },
  {
   "metadata": {
    "ExecuteTime": {
     "end_time": "2024-05-19T15:57:49.170834Z",
     "start_time": "2024-05-19T15:57:49.075578Z"
    }
   },
   "cell_type": "code",
   "source": "sns.boxplot(data=all_regression.errors)",
   "id": "28f2f3b4af5518b2",
   "outputs": [
    {
     "data": {
      "text/plain": [
       "<AxesSubplot:>"
      ]
     },
     "execution_count": 8,
     "metadata": {},
     "output_type": "execute_result"
    },
    {
     "data": {
      "text/plain": [
       "<Figure size 432x288 with 1 Axes>"
      ],
      "image/png": "[encoded data removed]"
     },
     "metadata": {
      "needs_background": "light"
     },
     "output_type": "display_data"
    }
   ],
   "execution_count": 8
  },
  {
   "metadata": {},
   "cell_type": "markdown",
   "source": "Выбросов нет, поэтому мы берем, находим min и max и удаляем их, а дальше вновь строим регрессию и смотрим на все",
   "id": "133c079ac58febd0"
  },
  {
   "metadata": {
    "ExecuteTime": {
     "end_time": "2024-05-19T15:57:49.186134Z",
     "start_time": "2024-05-19T15:57:49.171818Z"
    }
   },
   "cell_type": "code",
   "source": [
    "min_index = np.where(all_regression.errors == np.min(all_regression.errors))[0][0]\n",
    "max_index = np.where(all_regression.errors == np.max(all_regression.errors))[0][0]\n",
    "\n",
    "new_factors = np.delete(all_regression.factors, [min_index, max_index], 0)\n",
    "new_answers = np.delete(all_regression.answers, [min_index, max_index], 0)\n",
    "new_regression = LinearRegression(new_factors, new_answers)\n",
    "print(new_regression)"
   ],
   "id": "df981ec70c493f39",
   "outputs": [
    {
     "name": "stdout",
     "output_type": "stream",
     "text": [
      "Коэффициенты регрессии: [1.9581578899913439, 2.8349652503015275, -2.247089450533169, -0.019903537059482335, 0.9725848283300096, -0.9547910525065044]\n",
      "RSS регрессии: 71.3970532541826\n",
      "TSS регрессии: 239.97838394265682\n",
      "R^2 регрессии: 0.7024854818955568\n",
      "Регрессия значима: да\n"
     ]
    }
   ],
   "execution_count": 9
  },
  {
   "metadata": {},
   "cell_type": "markdown",
   "source": "## Cross-Validation",
   "id": "1252b074fe22a286"
  },
  {
   "metadata": {
    "ExecuteTime": {
     "end_time": "2024-05-19T15:57:49.202297Z",
     "start_time": "2024-05-19T15:57:49.187118Z"
    }
   },
   "cell_type": "code",
   "source": [
    "cvss, r_cvss_square = all_regression.cross_validation()\n",
    "cvss, r_cvss_square"
   ],
   "id": "c2bd9b331e061ae",
   "outputs": [
    {
     "data": {
      "text/plain": [
       "(122.18470462421068, 0.5674014223274756)"
      ]
     },
     "execution_count": 10,
     "metadata": {},
     "output_type": "execute_result"
    }
   ],
   "execution_count": 10
  },
  {
   "metadata": {},
   "cell_type": "markdown",
   "source": "## Удаление наименее значимой переменной",
   "id": "d5ddeb4d7a4c7ffb"
  },
  {
   "metadata": {
    "ExecuteTime": {
     "end_time": "2024-05-19T15:57:49.218117Z",
     "start_time": "2024-05-19T15:57:49.203423Z"
    }
   },
   "cell_type": "code",
   "source": "scaled_coefficients = np.array(all_regression.scale_coefficients())",
   "id": "6161e4de3a23907f",
   "outputs": [],
   "execution_count": 11
  },
  {
   "metadata": {
    "ExecuteTime": {
     "end_time": "2024-05-19T15:57:49.233878Z",
     "start_time": "2024-05-19T15:57:49.219625Z"
    }
   },
   "cell_type": "code",
   "source": [
    "index_min_significant = np.where(scaled_coefficients == np.min(scaled_coefficients))[0][0]\n",
    "index_min_significant"
   ],
   "id": "ca6835266c95f289",
   "outputs": [
    {
     "data": {
      "text/plain": [
       "2"
      ]
     },
     "execution_count": 12,
     "metadata": {},
     "output_type": "execute_result"
    }
   ],
   "execution_count": 12
  },
  {
   "metadata": {
    "ExecuteTime": {
     "end_time": "2024-05-19T15:57:49.248960Z",
     "start_time": "2024-05-19T15:57:49.234986Z"
    }
   },
   "cell_type": "code",
   "source": [
    "significant_factors = np.delete(all_factors, index_min_significant, 1)\n",
    "significant_regression = LinearRegression(significant_factors, all_answers)\n",
    "print(str(significant_regression))"
   ],
   "id": "c9f38031bc0dee",
   "outputs": [
    {
     "name": "stdout",
     "output_type": "stream",
     "text": [
      "Коэффициенты регрессии: [2.111900780958365, 2.7162291801562337, 0.02270372894809017, 0.1264371684244594, -1.1293626097850795]\n",
      "RSS регрессии: 145.24890227488154\n",
      "TSS регрессии: 282.44361153841805\n",
      "R^2 регрессии: 0.485741945148847\n",
      "Регрессия значима: да\n"
     ]
    }
   ],
   "execution_count": 13
  },
  {
   "metadata": {},
   "cell_type": "markdown",
   "source": "### Сравнение регрессий",
   "id": "7ffb9bc1a2404085"
  },
  {
   "metadata": {
    "ExecuteTime": {
     "end_time": "2024-05-19T15:57:49.264955Z",
     "start_time": "2024-05-19T15:57:49.249928Z"
    }
   },
   "cell_type": "code",
   "source": [
    "def compare_regressions(lhs: LinearRegression, rhs: LinearRegression):\n",
    "    delta = (lhs.RSS - rhs.RSS) / rhs.RSS * (lhs.n - rhs.factors_count) / (rhs.factors_count - lhs.factors_count)\n",
    "    p_value = 1 - spi.quad(sps.f.pdf, delta, np.inf, args=(rhs.factors_count - lhs.factors_count, lhs.n - rhs.factors_count))[0]\n",
    "    return p_value, delta"
   ],
   "id": "c5b8bbbe962bbb37",
   "outputs": [],
   "execution_count": 14
  },
  {
   "metadata": {
    "ExecuteTime": {
     "end_time": "2024-05-19T15:57:49.279987Z",
     "start_time": "2024-05-19T15:57:49.265953Z"
    }
   },
   "cell_type": "code",
   "source": "comparison_p_value, comparison_delta = compare_regressions(significant_regression, all_regression)",
   "id": "33af4979aee2c045",
   "outputs": [],
   "execution_count": 15
  },
  {
   "metadata": {},
   "cell_type": "markdown",
   "source": "### Проверка адекватности",
   "id": "a351767eb5f59d01"
  },
  {
   "metadata": {
    "ExecuteTime": {
     "end_time": "2024-05-19T15:57:49.295765Z",
     "start_time": "2024-05-19T15:57:49.281498Z"
    }
   },
   "cell_type": "code",
   "source": [
    "def check_adequacy(regression: LinearRegression):\n",
    "    point = [np.random.uniform(-1, 2) for _ in range(5)]\n",
    "    answers = [np.random.normal(2 + 3*point[0] - 2*point[1] + point[2] + point[3] - point[4], 1.5, 1)[0] for _ in range(5)]\n",
    "    \n",
    "    S_square = np.sum((answers - np.average(answers)) ** 2) / 4\n",
    "    delta = regression.RSS / (regression.n - regression.factors_count) / S_square\n",
    "    p_value = 1 - spi.quad(sps.f.pdf, delta, np.inf, args=(regression.n - regression.factors_count, 4))[0]\n",
    "    return p_value"
   ],
   "id": "14c51e5fb05aee47",
   "outputs": [],
   "execution_count": 16
  },
  {
   "metadata": {
    "ExecuteTime": {
     "end_time": "2024-05-19T15:57:49.311417Z",
     "start_time": "2024-05-19T15:57:49.297749Z"
    }
   },
   "cell_type": "code",
   "source": "check_adequacy(all_regression)",
   "id": "7a50eab13a28ea9c",
   "outputs": [
    {
     "data": {
      "text/plain": [
       "0.028913281541758096"
      ]
     },
     "execution_count": 17,
     "metadata": {},
     "output_type": "execute_result"
    }
   ],
   "execution_count": 17
  },
  {
   "metadata": {},
   "cell_type": "markdown",
   "source": "### Проверка независимости ошибок",
   "id": "adf68a394db4a1e9"
  },
  {
   "metadata": {
    "ExecuteTime": {
     "end_time": "2024-05-19T15:57:49.326481Z",
     "start_time": "2024-05-19T15:57:49.312422Z"
    }
   },
   "cell_type": "code",
   "source": [
    "def check_error_independence(regression: LinearRegression):\n",
    "    errors = []\n",
    "    for answer in regression.answers:\n",
    "        errors.append(answer - regression.coefficients[0] - regression.coefficients[1:] @ regression.factors[0][1:])\n",
    "    \n",
    "    inversions = 0\n",
    "    for i in range(len(errors) - 1):\n",
    "        for j in range(i + 1, len(errors)):\n",
    "            if errors[j] < errors[i]:\n",
    "                inversions += 1\n",
    "    \n",
    "    delta = (inversions - regression.n * (regression.n - 1) / 4) / np.sqrt(regression.n ** 3 / 36)\n",
    "    p_value = spi.quad(sps.norm.pdf, -np.abs(delta), np.inf)[0] * 2\n",
    "    return p_value, delta, inversions"
   ],
   "id": "e06bb8025640f895",
   "outputs": [],
   "execution_count": 18
  },
  {
   "metadata": {
    "ExecuteTime": {
     "end_time": "2024-05-19T15:57:49.342269Z",
     "start_time": "2024-05-19T15:57:49.329003Z"
    }
   },
   "cell_type": "code",
   "source": "check_error_independence(all_regression)",
   "id": "9adbda3d4bf53681",
   "outputs": [
    {
     "data": {
      "text/plain": [
       "(1.4754817197869252, 0.6363961030678927, 650)"
      ]
     },
     "execution_count": 19,
     "metadata": {},
     "output_type": "execute_result"
    }
   ],
   "execution_count": 19
  },
  {
   "metadata": {},
   "cell_type": "markdown",
   "source": "### Проверка нормальности распределения ошибок",
   "id": "45478ed92ac0ca41"
  },
  {
   "metadata": {
    "ExecuteTime": {
     "end_time": "2024-05-19T15:57:49.357853Z",
     "start_time": "2024-05-19T15:57:49.344276Z"
    }
   },
   "cell_type": "code",
   "source": "...",
   "id": "c08009e965331121",
   "outputs": [
    {
     "data": {
      "text/plain": [
       "Ellipsis"
      ]
     },
     "execution_count": 20,
     "metadata": {},
     "output_type": "execute_result"
    }
   ],
   "execution_count": 20
  },
  {
   "metadata": {},
   "cell_type": "markdown",
   "source": "### Доверительный интервал",
   "id": "954fd2357bd05409"
  },
  {
   "metadata": {
    "ExecuteTime": {
     "end_time": "2024-05-19T15:57:49.373234Z",
     "start_time": "2024-05-19T15:57:49.358857Z"
    }
   },
   "cell_type": "code",
   "source": [
    "point = np.array([1, 0, 0, 0, 0, 0])\n",
    "answer = all_regression.coefficients @ point.T\n",
    "\n",
    "kappa = np.sqrt(1 + point @ all_regression.inv_F @ point.T)\n",
    "quantile = sps.t.ppf(0.975, all_regression.n - all_regression.factors_count)\n",
    "value = kappa * np.sqrt(all_regression.RSS) / np.sqrt(all_regression.n - all_regression.factors_count)\n",
    "left = answer - quantile * value\n",
    "right = answer + quantile * value\n",
    "left, answer, right"
   ],
   "id": "45042bb029658833",
   "outputs": [
    {
     "data": {
      "text/plain": [
       "(-1.0984238563847306, 1.9175267126655315, 4.933477281715794)"
      ]
     },
     "execution_count": 21,
     "metadata": {},
     "output_type": "execute_result"
    }
   ],
   "execution_count": 21
  },
  {
   "metadata": {},
   "cell_type": "markdown",
   "source": "## Сравнение регрессии bootstrap",
   "id": "5c4e25232dcc1d0d"
  },
  {
   "metadata": {
    "ExecuteTime": {
     "end_time": "2024-05-19T15:57:49.436122Z",
     "start_time": "2024-05-19T15:57:49.374746Z"
    }
   },
   "cell_type": "code",
   "source": [
    "bootstrap_deltas = []\n",
    "N = 1000\n",
    "for _ in range(N):\n",
    "    bootstrap_indexes = np.random.choice(50, size=50)\n",
    "    bootstrap_x = significant_regression.factors[bootstrap_indexes]\n",
    "    bootstrap_y = all_answers[bootstrap_indexes]\n",
    "    \n",
    "    bootstrap_regression = LinearRegression(bootstrap_x, bootstrap_y)\n",
    "    bootstrap_deltas.append((bootstrap_regression.RSS / all_regression.RSS - 1) * (50 - 6))\n",
    "\n",
    "bootstrap_deltas = np.sort(bootstrap_deltas)\n",
    "p_value = np.sum(comparison_delta <= bootstrap_deltas) / len(bootstrap_deltas)\n",
    "print(f\"{p_value:.10f}\")"
   ],
   "id": "eafeb4e2c749acfe",
   "outputs": [
    {
     "name": "stdout",
     "output_type": "stream",
     "text": [
      "0.2930000000\n"
     ]
    }
   ],
   "execution_count": 22
  },
  {
   "metadata": {
    "ExecuteTime": {
     "end_time": "2024-05-19T16:23:45.531228Z",
     "start_time": "2024-05-19T16:23:45.514549Z"
    }
   },
   "cell_type": "code",
   "source": "comparison_p_value",
   "id": "75a748da49e5745d",
   "outputs": [
    {
     "data": {
      "text/plain": [
       "0.9999772257597087"
      ]
     },
     "execution_count": 24,
     "metadata": {},
     "output_type": "execute_result"
    }
   ],
   "execution_count": 24
  },
  {
   "metadata": {},
   "cell_type": "code",
   "outputs": [],
   "execution_count": null,
   "source": "",
   "id": "3bf47f1e8a7d6045"
  }
 ],
 "metadata": {
  "kernelspec": {
   "display_name": "Python 3 (ipykernel)",
   "language": "python",
   "name": "python3"
  },
  "language_info": {
   "codemirror_mode": {
    "name": "ipython",
    "version": 3
   },
   "file_extension": ".py",
   "mimetype": "text/x-python",
   "name": "python",
   "nbconvert_exporter": "python",
   "pygments_lexer": "ipython3",
   "version": "3.9.19"
  }
 },
 "nbformat": 4,
 "nbformat_minor": 5
}
